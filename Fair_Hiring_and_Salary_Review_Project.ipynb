{
 "cells": [
  {
   "cell_type": "markdown",
   "metadata": {},
   "source": [
    "# Foundations Project"
   ]
  },
  {
   "cell_type": "markdown",
   "metadata": {},
   "source": [
    " ### Import Libraries & Load Data"
   ]
  },
  {
   "cell_type": "code",
   "execution_count": 2,
   "metadata": {},
   "outputs": [],
   "source": [
    "# Import the functionalities needed to answer the brief:\n",
    "import pandas as pd # used to \"tidy\" up and manipulate data\n",
    "import numpy as np # used for matrix and numerical calculations; foundation of pandas\n",
    "from scipy import stats # contains stats functions and is used to visualise probability distributions\n",
    "import matplotlib.pyplot as plt # used for visualisations\n",
    "import seaborn as sns # a more user-friendly library used for visualisations"
   ]
  },
  {
   "cell_type": "code",
   "execution_count": 94,
   "metadata": {},
   "outputs": [
    {
     "data": {
      "text/html": [
       "<div>\n",
       "<style scoped>\n",
       "    .dataframe tbody tr th:only-of-type {\n",
       "        vertical-align: middle;\n",
       "    }\n",
       "\n",
       "    .dataframe tbody tr th {\n",
       "        vertical-align: top;\n",
       "    }\n",
       "\n",
       "    .dataframe thead th {\n",
       "        text-align: right;\n",
       "    }\n",
       "</style>\n",
       "<table border=\"1\" class=\"dataframe\">\n",
       "  <thead>\n",
       "    <tr style=\"text-align: right;\">\n",
       "      <th></th>\n",
       "      <th>EmpID</th>\n",
       "      <th>UserName</th>\n",
       "      <th>FirstName</th>\n",
       "      <th>LastName</th>\n",
       "      <th>Gender</th>\n",
       "      <th>Ethnicity</th>\n",
       "      <th>Birth_Date</th>\n",
       "      <th>Age_Yrs</th>\n",
       "      <th>Year_Joined</th>\n",
       "      <th>Month_Joined</th>\n",
       "      <th>Day_Joined</th>\n",
       "      <th>Salary</th>\n",
       "      <th>SSN</th>\n",
       "      <th>PhoneNum</th>\n",
       "      <th>Marital_Status</th>\n",
       "      <th>City</th>\n",
       "      <th>US_State</th>\n",
       "      <th>Zip_code</th>\n",
       "      <th>US_Region</th>\n",
       "      <th>Password</th>\n",
       "    </tr>\n",
       "  </thead>\n",
       "  <tbody>\n",
       "    <tr>\n",
       "      <th>0</th>\n",
       "      <td>407061</td>\n",
       "      <td>aalger</td>\n",
       "      <td>Angelina</td>\n",
       "      <td>Alger</td>\n",
       "      <td>Female</td>\n",
       "      <td>White (non-Hispanic)</td>\n",
       "      <td>8/15/1964</td>\n",
       "      <td>41</td>\n",
       "      <td>2005</td>\n",
       "      <td>January</td>\n",
       "      <td>Wednesday</td>\n",
       "      <td>82232</td>\n",
       "      <td>660-24-4434</td>\n",
       "      <td>603-568-6118</td>\n",
       "      <td>Married</td>\n",
       "      <td>Rochester</td>\n",
       "      <td>NH</td>\n",
       "      <td>3867</td>\n",
       "      <td>Northeast</td>\n",
       "      <td>EAHcnWsf6xMRwr]</td>\n",
       "    </tr>\n",
       "    <tr>\n",
       "      <th>1</th>\n",
       "      <td>247137</td>\n",
       "      <td>aalpira</td>\n",
       "      <td>Abdul Ghani</td>\n",
       "      <td>al-Pirani</td>\n",
       "      <td>Male</td>\n",
       "      <td>Middle-Eastern</td>\n",
       "      <td>12/11/1978</td>\n",
       "      <td>49</td>\n",
       "      <td>2006</td>\n",
       "      <td>June</td>\n",
       "      <td>Wednesday</td>\n",
       "      <td>44147</td>\n",
       "      <td>399-31-7149</td>\n",
       "      <td>423-277-6819</td>\n",
       "      <td>Single</td>\n",
       "      <td>Knoxville</td>\n",
       "      <td>TN</td>\n",
       "      <td>37901</td>\n",
       "      <td>South</td>\n",
       "      <td>rSuD~3HS*{S</td>\n",
       "    </tr>\n",
       "    <tr>\n",
       "      <th>2</th>\n",
       "      <td>879753</td>\n",
       "      <td>acano</td>\n",
       "      <td>Andrew</td>\n",
       "      <td>Cano</td>\n",
       "      <td>Male</td>\n",
       "      <td>Hispanic</td>\n",
       "      <td>4/14/1996</td>\n",
       "      <td>45</td>\n",
       "      <td>2017</td>\n",
       "      <td>June</td>\n",
       "      <td>Friday</td>\n",
       "      <td>93715</td>\n",
       "      <td>459-99-9201</td>\n",
       "      <td>307-329-8832</td>\n",
       "      <td>Single</td>\n",
       "      <td>Banner</td>\n",
       "      <td>WY</td>\n",
       "      <td>82832</td>\n",
       "      <td>West</td>\n",
       "      <td>3a*&amp;[Y^pV\\0!rU</td>\n",
       "    </tr>\n",
       "    <tr>\n",
       "      <th>3</th>\n",
       "      <td>363065</td>\n",
       "      <td>ade lir</td>\n",
       "      <td>Andrea</td>\n",
       "      <td>De Lira Muniz</td>\n",
       "      <td>Female</td>\n",
       "      <td>Hispanic</td>\n",
       "      <td>11/10/1993</td>\n",
       "      <td>64</td>\n",
       "      <td>2015</td>\n",
       "      <td>October</td>\n",
       "      <td>Friday</td>\n",
       "      <td>64922</td>\n",
       "      <td>681-24-3165</td>\n",
       "      <td>212-825-1930</td>\n",
       "      <td>Single</td>\n",
       "      <td>New York City</td>\n",
       "      <td>NY</td>\n",
       "      <td>10087</td>\n",
       "      <td>Northeast</td>\n",
       "      <td>J}HJq/zVF-Aq2</td>\n",
       "    </tr>\n",
       "    <tr>\n",
       "      <th>4</th>\n",
       "      <td>474599</td>\n",
       "      <td>aelsaab</td>\n",
       "      <td>Abdul Jabbaar</td>\n",
       "      <td>el-Saab</td>\n",
       "      <td>Male</td>\n",
       "      <td>Middle-Eastern</td>\n",
       "      <td>3/19/1975</td>\n",
       "      <td>40</td>\n",
       "      <td>1998</td>\n",
       "      <td>October</td>\n",
       "      <td>Thursday</td>\n",
       "      <td>67142</td>\n",
       "      <td>447-27-3175</td>\n",
       "      <td>423-668-5506</td>\n",
       "      <td>Single</td>\n",
       "      <td>Lawrenceburg</td>\n",
       "      <td>TN</td>\n",
       "      <td>38464</td>\n",
       "      <td>South</td>\n",
       "      <td>cw?%U}s{?</td>\n",
       "    </tr>\n",
       "  </tbody>\n",
       "</table>\n",
       "</div>"
      ],
      "text/plain": [
       "    EmpID UserName      FirstName       LastName  Gender  \\\n",
       "0  407061   aalger       Angelina          Alger  Female   \n",
       "1  247137  aalpira    Abdul Ghani      al-Pirani    Male   \n",
       "2  879753    acano         Andrew           Cano    Male   \n",
       "3  363065  ade lir         Andrea  De Lira Muniz  Female   \n",
       "4  474599  aelsaab  Abdul Jabbaar        el-Saab    Male   \n",
       "\n",
       "              Ethnicity  Birth_Date  Age_Yrs  Year_Joined Month_Joined  \\\n",
       "0  White (non-Hispanic)   8/15/1964       41         2005      January   \n",
       "1        Middle-Eastern  12/11/1978       49         2006         June   \n",
       "2              Hispanic   4/14/1996       45         2017         June   \n",
       "3              Hispanic  11/10/1993       64         2015      October   \n",
       "4        Middle-Eastern   3/19/1975       40         1998      October   \n",
       "\n",
       "  Day_Joined  Salary          SSN      PhoneNum Marital_Status           City  \\\n",
       "0  Wednesday   82232  660-24-4434  603-568-6118        Married      Rochester   \n",
       "1  Wednesday   44147  399-31-7149  423-277-6819         Single      Knoxville   \n",
       "2     Friday   93715  459-99-9201  307-329-8832         Single         Banner   \n",
       "3     Friday   64922  681-24-3165  212-825-1930         Single  New York City   \n",
       "4   Thursday   67142  447-27-3175  423-668-5506         Single   Lawrenceburg   \n",
       "\n",
       "  US_State  Zip_code  US_Region         Password  \n",
       "0       NH      3867  Northeast  EAHcnWsf6xMRwr]  \n",
       "1       TN     37901      South      rSuD~3HS*{S  \n",
       "2       WY     82832       West   3a*&[Y^pV\\0!rU  \n",
       "3       NY     10087  Northeast    J}HJq/zVF-Aq2  \n",
       "4       TN     38464      South        cw?%U}s{?  "
      ]
     },
     "execution_count": 94,
     "metadata": {},
     "output_type": "execute_result"
    }
   ],
   "source": [
    "# Load the data into a pandas dataframe called 'hr_data' using pandas read_csv\n",
    "hr_data = pd.read_csv(\"foundations-data.csv\")\n",
    "\n",
    "hr_data.head()"
   ]
  },
  {
   "cell_type": "code",
   "execution_count": 95,
   "metadata": {},
   "outputs": [
    {
     "data": {
      "text/html": [
       "<div>\n",
       "<style scoped>\n",
       "    .dataframe tbody tr th:only-of-type {\n",
       "        vertical-align: middle;\n",
       "    }\n",
       "\n",
       "    .dataframe tbody tr th {\n",
       "        vertical-align: top;\n",
       "    }\n",
       "\n",
       "    .dataframe thead th {\n",
       "        text-align: right;\n",
       "    }\n",
       "</style>\n",
       "<table border=\"1\" class=\"dataframe\">\n",
       "  <thead>\n",
       "    <tr style=\"text-align: right;\">\n",
       "      <th></th>\n",
       "      <th>EmpID</th>\n",
       "      <th>Gender</th>\n",
       "      <th>Ethnicity</th>\n",
       "      <th>Birth_Date</th>\n",
       "      <th>Age_Yrs</th>\n",
       "      <th>Year_Joined</th>\n",
       "      <th>Month_Joined</th>\n",
       "      <th>Day_Joined</th>\n",
       "      <th>Salary</th>\n",
       "      <th>PhoneNum</th>\n",
       "      <th>Marital_Status</th>\n",
       "      <th>City</th>\n",
       "      <th>US_State</th>\n",
       "      <th>Zip_code</th>\n",
       "      <th>US_Region</th>\n",
       "      <th>Password</th>\n",
       "    </tr>\n",
       "  </thead>\n",
       "  <tbody>\n",
       "    <tr>\n",
       "      <th>0</th>\n",
       "      <td>407061</td>\n",
       "      <td>Female</td>\n",
       "      <td>White (non-Hispanic)</td>\n",
       "      <td>8/15/1964</td>\n",
       "      <td>41</td>\n",
       "      <td>2005</td>\n",
       "      <td>January</td>\n",
       "      <td>Wednesday</td>\n",
       "      <td>82232</td>\n",
       "      <td>603-568-6118</td>\n",
       "      <td>Married</td>\n",
       "      <td>Rochester</td>\n",
       "      <td>NH</td>\n",
       "      <td>3867</td>\n",
       "      <td>Northeast</td>\n",
       "      <td>EAHcnWsf6xMRwr]</td>\n",
       "    </tr>\n",
       "    <tr>\n",
       "      <th>1</th>\n",
       "      <td>247137</td>\n",
       "      <td>Male</td>\n",
       "      <td>Middle-Eastern</td>\n",
       "      <td>12/11/1978</td>\n",
       "      <td>49</td>\n",
       "      <td>2006</td>\n",
       "      <td>June</td>\n",
       "      <td>Wednesday</td>\n",
       "      <td>44147</td>\n",
       "      <td>423-277-6819</td>\n",
       "      <td>Single</td>\n",
       "      <td>Knoxville</td>\n",
       "      <td>TN</td>\n",
       "      <td>37901</td>\n",
       "      <td>South</td>\n",
       "      <td>rSuD~3HS*{S</td>\n",
       "    </tr>\n",
       "    <tr>\n",
       "      <th>2</th>\n",
       "      <td>879753</td>\n",
       "      <td>Male</td>\n",
       "      <td>Hispanic</td>\n",
       "      <td>4/14/1996</td>\n",
       "      <td>45</td>\n",
       "      <td>2017</td>\n",
       "      <td>June</td>\n",
       "      <td>Friday</td>\n",
       "      <td>93715</td>\n",
       "      <td>307-329-8832</td>\n",
       "      <td>Single</td>\n",
       "      <td>Banner</td>\n",
       "      <td>WY</td>\n",
       "      <td>82832</td>\n",
       "      <td>West</td>\n",
       "      <td>3a*&amp;[Y^pV\\0!rU</td>\n",
       "    </tr>\n",
       "    <tr>\n",
       "      <th>3</th>\n",
       "      <td>363065</td>\n",
       "      <td>Female</td>\n",
       "      <td>Hispanic</td>\n",
       "      <td>11/10/1993</td>\n",
       "      <td>64</td>\n",
       "      <td>2015</td>\n",
       "      <td>October</td>\n",
       "      <td>Friday</td>\n",
       "      <td>64922</td>\n",
       "      <td>212-825-1930</td>\n",
       "      <td>Single</td>\n",
       "      <td>New York City</td>\n",
       "      <td>NY</td>\n",
       "      <td>10087</td>\n",
       "      <td>Northeast</td>\n",
       "      <td>J}HJq/zVF-Aq2</td>\n",
       "    </tr>\n",
       "    <tr>\n",
       "      <th>4</th>\n",
       "      <td>474599</td>\n",
       "      <td>Male</td>\n",
       "      <td>Middle-Eastern</td>\n",
       "      <td>3/19/1975</td>\n",
       "      <td>40</td>\n",
       "      <td>1998</td>\n",
       "      <td>October</td>\n",
       "      <td>Thursday</td>\n",
       "      <td>67142</td>\n",
       "      <td>423-668-5506</td>\n",
       "      <td>Single</td>\n",
       "      <td>Lawrenceburg</td>\n",
       "      <td>TN</td>\n",
       "      <td>38464</td>\n",
       "      <td>South</td>\n",
       "      <td>cw?%U}s{?</td>\n",
       "    </tr>\n",
       "  </tbody>\n",
       "</table>\n",
       "</div>"
      ],
      "text/plain": [
       "    EmpID  Gender             Ethnicity  Birth_Date  Age_Yrs  Year_Joined  \\\n",
       "0  407061  Female  White (non-Hispanic)   8/15/1964       41         2005   \n",
       "1  247137    Male        Middle-Eastern  12/11/1978       49         2006   \n",
       "2  879753    Male              Hispanic   4/14/1996       45         2017   \n",
       "3  363065  Female              Hispanic  11/10/1993       64         2015   \n",
       "4  474599    Male        Middle-Eastern   3/19/1975       40         1998   \n",
       "\n",
       "  Month_Joined Day_Joined  Salary      PhoneNum Marital_Status           City  \\\n",
       "0      January  Wednesday   82232  603-568-6118        Married      Rochester   \n",
       "1         June  Wednesday   44147  423-277-6819         Single      Knoxville   \n",
       "2         June     Friday   93715  307-329-8832         Single         Banner   \n",
       "3      October     Friday   64922  212-825-1930         Single  New York City   \n",
       "4      October   Thursday   67142  423-668-5506         Single   Lawrenceburg   \n",
       "\n",
       "  US_State  Zip_code  US_Region         Password  \n",
       "0       NH      3867  Northeast  EAHcnWsf6xMRwr]  \n",
       "1       TN     37901      South      rSuD~3HS*{S  \n",
       "2       WY     82832       West   3a*&[Y^pV\\0!rU  \n",
       "3       NY     10087  Northeast    J}HJq/zVF-Aq2  \n",
       "4       TN     38464      South        cw?%U}s{?  "
      ]
     },
     "execution_count": 95,
     "metadata": {},
     "output_type": "execute_result"
    }
   ],
   "source": [
    "#remove the PII\n",
    "\n",
    "hr_data = hr_data.drop([\"UserName\", \"FirstName\", \"LastName\" , \"SSN\"], axis=1)\n",
    "hr_data.head()"
   ]
  },
  {
   "cell_type": "code",
   "execution_count": 4,
   "metadata": {},
   "outputs": [
    {
     "name": "stdout",
     "output_type": "stream",
     "text": [
      "Rows in hr_data: 100\n",
      "Shape of hr_data: (100, 20)\n"
     ]
    }
   ],
   "source": [
    "# Print the rows of each dataset\n",
    "print(\"Rows in hr_data:\", len(hr_data))\n",
    "\n",
    "# .shape to inspect the dataset\n",
    "print(\"Shape of hr_data:\", hr_data.shape)\n",
    "\n",
    "# I can see that there are 100 people in this data set and 20 variables (pieces of information about each person)"
   ]
  },
  {
   "cell_type": "markdown",
   "metadata": {},
   "source": [
    "### Exploring the data"
   ]
  },
  {
   "cell_type": "code",
   "execution_count": 5,
   "metadata": {},
   "outputs": [
    {
     "data": {
      "text/plain": [
       "['EmpID',\n",
       " 'UserName',\n",
       " 'FirstName',\n",
       " 'LastName',\n",
       " 'Gender',\n",
       " 'Ethnicity',\n",
       " 'Birth_Date',\n",
       " 'Age_Yrs',\n",
       " 'Year_Joined',\n",
       " 'Month_Joined',\n",
       " 'Day_Joined',\n",
       " 'Salary',\n",
       " 'SSN',\n",
       " 'PhoneNum',\n",
       " 'Marital_Status',\n",
       " 'City',\n",
       " 'US_State',\n",
       " 'Zip_code',\n",
       " 'US_Region',\n",
       " 'Password']"
      ]
     },
     "execution_count": 5,
     "metadata": {},
     "output_type": "execute_result"
    }
   ],
   "source": [
    "#view the headers to see what the variables are.\n",
    "list(hr_data)"
   ]
  },
  {
   "cell_type": "code",
   "execution_count": 6,
   "metadata": {},
   "outputs": [
    {
     "data": {
      "text/plain": [
       "EmpID              int64\n",
       "UserName          object\n",
       "FirstName         object\n",
       "LastName          object\n",
       "Gender            object\n",
       "Ethnicity         object\n",
       "Birth_Date        object\n",
       "Age_Yrs            int64\n",
       "Year_Joined        int64\n",
       "Month_Joined      object\n",
       "Day_Joined        object\n",
       "Salary             int64\n",
       "SSN               object\n",
       "PhoneNum          object\n",
       "Marital_Status    object\n",
       "City              object\n",
       "US_State          object\n",
       "Zip_code           int64\n",
       "US_Region         object\n",
       "Password          object\n",
       "dtype: object"
      ]
     },
     "execution_count": 6,
     "metadata": {},
     "output_type": "execute_result"
    }
   ],
   "source": [
    "# Check the datatypes\n",
    "hr_data.dtypes"
   ]
  },
  {
   "cell_type": "markdown",
   "metadata": {},
   "source": [
    "For my brief, I need to determine if there are any employment or salary biases based on gender. "
   ]
  },
  {
   "cell_type": "code",
   "execution_count": 7,
   "metadata": {},
   "outputs": [
    {
     "data": {
      "text/plain": [
       "array(['Female', 'Male'], dtype=object)"
      ]
     },
     "execution_count": 7,
     "metadata": {},
     "output_type": "execute_result"
    }
   ],
   "source": [
    "#Understand how 'Gender' and 'Salary' is measured\n",
    "\n",
    "hr_data['Gender'].unique()"
   ]
  },
  {
   "cell_type": "code",
   "execution_count": 8,
   "metadata": {},
   "outputs": [
    {
     "data": {
      "text/plain": [
       "array([ 82232,  44147,  93715,  64922,  67142,  36108,  69253,  89450,\n",
       "        51972,  81339,  46768,  28141,  48941,  40642,  43193,  48640,\n",
       "        36898,  68047,  25583,  56317, 106303,  50354, 104330,  64148,\n",
       "        48800,  77779,  65834,  39271,  83007,  75056,  73614,  30014,\n",
       "       107855,  49971,  37242,  85215,  40409,  68322,  60601,  58856,\n",
       "        71214,  78932,  72809,  71567,  51673,  50148,  55837, 111502,\n",
       "        38137, 115019,  67024, 106944,  79792,  37932,  78791,  91622,\n",
       "        54786,  84626,  78665,  72219, 111435,  91600, 102704,  82610,\n",
       "        35807,  55634,  77417, 103472,  75859,  59757,  45236,  95215,\n",
       "        41353,  29073,  38117,  64864,  82580,  69568,  85383,  26153,\n",
       "        43895,  44169,  33794,  33559,  39155,  71337, 118826,  80215,\n",
       "       103356,  77801,  35618,  79624,  84724,  56870,  44414, 111577,\n",
       "       109390,  86602,  61893,  55554], dtype=int64)"
      ]
     },
     "execution_count": 8,
     "metadata": {},
     "output_type": "execute_result"
    }
   ],
   "source": [
    "hr_data['Salary'].unique()"
   ]
  },
  {
   "cell_type": "code",
   "execution_count": 9,
   "metadata": {},
   "outputs": [
    {
     "data": {
      "text/plain": [
       "Male      50\n",
       "Female    50\n",
       "Name: Gender, dtype: int64"
      ]
     },
     "execution_count": 9,
     "metadata": {},
     "output_type": "execute_result"
    }
   ],
   "source": [
    "hr_data['Gender'].value_counts()"
   ]
  },
  {
   "cell_type": "code",
   "execution_count": 10,
   "metadata": {},
   "outputs": [
    {
     "data": {
      "text/plain": [
       "95215     1\n",
       "106303    1\n",
       "86602     1\n",
       "111435    1\n",
       "40409     1\n",
       "109390    1\n",
       "107855    1\n",
       "38137     1\n",
       "55634     1\n",
       "75859     1\n",
       "78932     1\n",
       "80215     1\n",
       "64864     1\n",
       "56317     1\n",
       "44169     1\n",
       "55554     1\n",
       "89450     1\n",
       "35807     1\n",
       "72809     1\n",
       "78665     1\n",
       "59757     1\n",
       "44147     1\n",
       "43895     1\n",
       "37242     1\n",
       "78791     1\n",
       "67142     1\n",
       "83007     1\n",
       "30014     1\n",
       "54786     1\n",
       "51972     1\n",
       "         ..\n",
       "25583     1\n",
       "39155     1\n",
       "84724     1\n",
       "106944    1\n",
       "40642     1\n",
       "103356    1\n",
       "118826    1\n",
       "81339     1\n",
       "69253     1\n",
       "85383     1\n",
       "41353     1\n",
       "104330    1\n",
       "73614     1\n",
       "71567     1\n",
       "111502    1\n",
       "29073     1\n",
       "84626     1\n",
       "33794     1\n",
       "64148     1\n",
       "35618     1\n",
       "43193     1\n",
       "64922     1\n",
       "115019    1\n",
       "48800     1\n",
       "71337     1\n",
       "79792     1\n",
       "82610     1\n",
       "45236     1\n",
       "60601     1\n",
       "48640     1\n",
       "Name: Salary, Length: 100, dtype: int64"
      ]
     },
     "execution_count": 10,
     "metadata": {},
     "output_type": "execute_result"
    }
   ],
   "source": [
    "hr_data['Salary'].value_counts()"
   ]
  },
  {
   "cell_type": "code",
   "execution_count": 11,
   "metadata": {},
   "outputs": [
    {
     "data": {
      "text/plain": [
       "count      100\n",
       "unique       2\n",
       "top       Male\n",
       "freq        50\n",
       "Name: Gender, dtype: object"
      ]
     },
     "execution_count": 11,
     "metadata": {},
     "output_type": "execute_result"
    }
   ],
   "source": [
    "hr_data[\"Gender\"].describe()"
   ]
  },
  {
   "cell_type": "code",
   "execution_count": 12,
   "metadata": {},
   "outputs": [
    {
     "data": {
      "text/plain": [
       "count       100.000000\n",
       "mean      66658.800000\n",
       "std       24214.744715\n",
       "min       25583.000000\n",
       "25%       45030.500000\n",
       "50%       67083.000000\n",
       "75%       82587.500000\n",
       "max      118826.000000\n",
       "Name: Salary, dtype: float64"
      ]
     },
     "execution_count": 12,
     "metadata": {},
     "output_type": "execute_result"
    }
   ],
   "source": [
    "hr_data[\"Salary\"].describe()"
   ]
  },
  {
   "cell_type": "code",
   "execution_count": 13,
   "metadata": {},
   "outputs": [
    {
     "data": {
      "text/plain": [
       "100"
      ]
     },
     "execution_count": 13,
     "metadata": {},
     "output_type": "execute_result"
    }
   ],
   "source": [
    "# check for duplicate enteries \n",
    "len(np.unique(hr_data['Salary']))"
   ]
  },
  {
   "cell_type": "markdown",
   "metadata": {},
   "source": [
    "I can see that the variable 'Gender' is a categorical variable having only two categories (male and female) but there is no intrinsic ordering to the categories.\n",
    "\n",
    "I can see that there are 100 enteries, with 50 men and 50 women- so on first view it would appear the company are hiring fairly based solely on Gender. \n",
    "\n",
    "I can see that the variable 'Salary' is a continuous variable and that all 100 people are paid a different salary. \n",
    "\n",
    "Now I need to understand if the company is biased in what salaries they offer based on a persons gender.\n",
    "\n",
    "I will do these using descriptive statisitcs. "
   ]
  },
  {
   "cell_type": "markdown",
   "metadata": {},
   "source": [
    "### Descriptive Statistics"
   ]
  },
  {
   "cell_type": "code",
   "execution_count": 66,
   "metadata": {},
   "outputs": [
    {
     "data": {
      "text/html": [
       "<div>\n",
       "<style scoped>\n",
       "    .dataframe tbody tr th:only-of-type {\n",
       "        vertical-align: middle;\n",
       "    }\n",
       "\n",
       "    .dataframe tbody tr th {\n",
       "        vertical-align: top;\n",
       "    }\n",
       "\n",
       "    .dataframe thead th {\n",
       "        text-align: right;\n",
       "    }\n",
       "</style>\n",
       "<table border=\"1\" class=\"dataframe\">\n",
       "  <thead>\n",
       "    <tr style=\"text-align: right;\">\n",
       "      <th></th>\n",
       "      <th>EmpID</th>\n",
       "      <th>Age_Yrs</th>\n",
       "      <th>Year_Joined</th>\n",
       "      <th>Salary</th>\n",
       "      <th>Zip_code</th>\n",
       "    </tr>\n",
       "  </thead>\n",
       "  <tbody>\n",
       "    <tr>\n",
       "      <th>count</th>\n",
       "      <td>100.00000</td>\n",
       "      <td>100.000000</td>\n",
       "      <td>100.000000</td>\n",
       "      <td>100.000000</td>\n",
       "      <td>100.000000</td>\n",
       "    </tr>\n",
       "    <tr>\n",
       "      <th>mean</th>\n",
       "      <td>547652.10000</td>\n",
       "      <td>44.820000</td>\n",
       "      <td>2008.120000</td>\n",
       "      <td>66658.800000</td>\n",
       "      <td>53011.230000</td>\n",
       "    </tr>\n",
       "    <tr>\n",
       "      <th>std</th>\n",
       "      <td>257664.16679</td>\n",
       "      <td>12.525836</td>\n",
       "      <td>8.642484</td>\n",
       "      <td>24214.744715</td>\n",
       "      <td>23007.336848</td>\n",
       "    </tr>\n",
       "    <tr>\n",
       "      <th>min</th>\n",
       "      <td>134841.00000</td>\n",
       "      <td>21.000000</td>\n",
       "      <td>1983.000000</td>\n",
       "      <td>25583.000000</td>\n",
       "      <td>3867.000000</td>\n",
       "    </tr>\n",
       "    <tr>\n",
       "      <th>25%</th>\n",
       "      <td>328643.75000</td>\n",
       "      <td>34.750000</td>\n",
       "      <td>2003.000000</td>\n",
       "      <td>45030.500000</td>\n",
       "      <td>37580.500000</td>\n",
       "    </tr>\n",
       "    <tr>\n",
       "      <th>50%</th>\n",
       "      <td>497414.00000</td>\n",
       "      <td>46.000000</td>\n",
       "      <td>2010.500000</td>\n",
       "      <td>67083.000000</td>\n",
       "      <td>52855.000000</td>\n",
       "    </tr>\n",
       "    <tr>\n",
       "      <th>75%</th>\n",
       "      <td>766040.00000</td>\n",
       "      <td>55.250000</td>\n",
       "      <td>2015.000000</td>\n",
       "      <td>82587.500000</td>\n",
       "      <td>69514.500000</td>\n",
       "    </tr>\n",
       "    <tr>\n",
       "      <th>max</th>\n",
       "      <td>979607.00000</td>\n",
       "      <td>65.000000</td>\n",
       "      <td>2017.000000</td>\n",
       "      <td>118826.000000</td>\n",
       "      <td>99791.000000</td>\n",
       "    </tr>\n",
       "  </tbody>\n",
       "</table>\n",
       "</div>"
      ],
      "text/plain": [
       "              EmpID     Age_Yrs  Year_Joined         Salary      Zip_code\n",
       "count     100.00000  100.000000   100.000000     100.000000    100.000000\n",
       "mean   547652.10000   44.820000  2008.120000   66658.800000  53011.230000\n",
       "std    257664.16679   12.525836     8.642484   24214.744715  23007.336848\n",
       "min    134841.00000   21.000000  1983.000000   25583.000000   3867.000000\n",
       "25%    328643.75000   34.750000  2003.000000   45030.500000  37580.500000\n",
       "50%    497414.00000   46.000000  2010.500000   67083.000000  52855.000000\n",
       "75%    766040.00000   55.250000  2015.000000   82587.500000  69514.500000\n",
       "max    979607.00000   65.000000  2017.000000  118826.000000  99791.000000"
      ]
     },
     "execution_count": 66,
     "metadata": {},
     "output_type": "execute_result"
    }
   ],
   "source": [
    "hr_data.describe()"
   ]
  },
  {
   "cell_type": "code",
   "execution_count": 15,
   "metadata": {},
   "outputs": [
    {
     "data": {
      "text/plain": [
       "Gender\n",
       "Female    55836.74\n",
       "Male      77480.86\n",
       "Name: Salary, dtype: float64"
      ]
     },
     "execution_count": 15,
     "metadata": {},
     "output_type": "execute_result"
    }
   ],
   "source": [
    "# Compare the mean salary by gender\n",
    "hr_data.groupby(by='Gender')['Salary'].mean()"
   ]
  },
  {
   "cell_type": "code",
   "execution_count": 16,
   "metadata": {},
   "outputs": [
    {
     "data": {
      "text/plain": [
       "Gender\n",
       "Female    50971.5\n",
       "Male      77598.0\n",
       "Name: Salary, dtype: float64"
      ]
     },
     "execution_count": 16,
     "metadata": {},
     "output_type": "execute_result"
    }
   ],
   "source": [
    "# Compare the meadian salary by gender\n",
    "hr_data.groupby(by='Gender')['Salary'].median()"
   ]
  },
  {
   "cell_type": "markdown",
   "metadata": {},
   "source": [
    "Based on these results, I can tentatively identify a few trends in the data. \n",
    "\n",
    "If we're basing our evaluations on the mean or the median, it appears that Males are paid higher than Females. \n",
    "\n",
    "With both the mean and median, it seems the difference is about £21.5k (mean) and £26.6k (median)\n",
    "\n",
    "I now need to establish if there is a significant difference between the bottom and top salary ranges by gender by hypothesis testing. "
   ]
  },
  {
   "cell_type": "markdown",
   "metadata": {},
   "source": [
    "### Measuring the spread of the data"
   ]
  },
  {
   "cell_type": "markdown",
   "metadata": {},
   "source": [
    "Establish how much spread/deviation/variation there is the data. It will be useful to understand how dispersed my data points are."
   ]
  },
  {
   "cell_type": "code",
   "execution_count": 17,
   "metadata": {},
   "outputs": [
    {
     "data": {
      "text/plain": [
       "93243"
      ]
     },
     "execution_count": 17,
     "metadata": {},
     "output_type": "execute_result"
    }
   ],
   "source": [
    "# Range (difference between the top and bottom salary)\n",
    "hr_data['Salary'].max()-hr_data['Salary'].min()"
   ]
  },
  {
   "cell_type": "code",
   "execution_count": 18,
   "metadata": {},
   "outputs": [
    {
     "data": {
      "text/plain": [
       "Gender\n",
       "Female    63867\n",
       "Male      93243\n",
       "Name: Salary, dtype: int64"
      ]
     },
     "execution_count": 18,
     "metadata": {},
     "output_type": "execute_result"
    }
   ],
   "source": [
    "hr_data.groupby(by='Gender')['Salary'].max()-hr_data['Salary'].min()"
   ]
  },
  {
   "cell_type": "code",
   "execution_count": 19,
   "metadata": {},
   "outputs": [
    {
     "data": {
      "text/plain": [
       "Gender\n",
       "Female    3.797483e+08\n",
       "Male      5.659116e+08\n",
       "Name: Salary, dtype: float64"
      ]
     },
     "execution_count": 19,
     "metadata": {},
     "output_type": "execute_result"
    }
   ],
   "source": [
    "# Variance by Gender\n",
    "hr_data.groupby(by='Gender')['Salary'].var()"
   ]
  },
  {
   "cell_type": "code",
   "execution_count": 20,
   "metadata": {},
   "outputs": [
    {
     "data": {
      "text/plain": [
       "Gender\n",
       "Female    19487.130653\n",
       "Male      23788.896931\n",
       "Name: Salary, dtype: float64"
      ]
     },
     "execution_count": 20,
     "metadata": {},
     "output_type": "execute_result"
    }
   ],
   "source": [
    "# Standard deviation by Gender\n",
    "hr_data.groupby(by='Gender')['Salary'].std()"
   ]
  },
  {
   "cell_type": "markdown",
   "metadata": {},
   "source": [
    "This shows me that there is more variability among the salaries of Males than there are for Females. "
   ]
  },
  {
   "cell_type": "markdown",
   "metadata": {},
   "source": [
    "### Visualising the distributions\n",
    "I will now use seaborn and matplotlib.pyplot to create visuals of my data"
   ]
  },
  {
   "cell_type": "code",
   "execution_count": 31,
   "metadata": {},
   "outputs": [
    {
     "data": {
      "text/plain": [
       "<matplotlib.axes._subplots.AxesSubplot at 0x252c903aba8>"
      ]
     },
     "execution_count": 31,
     "metadata": {},
     "output_type": "execute_result"
    },
    {
     "data": {
      "image/png": "[encoded data removed]",
      "text/plain": [
       "<Figure size 432x288 with 1 Axes>"
      ]
     },
     "metadata": {
      "needs_background": "light"
     },
     "output_type": "display_data"
    }
   ],
   "source": [
    "# visual based just on salary\n",
    "sns.distplot(hr_data['Salary'], hist=True, rug=False, bins=30)"
   ]
  },
  {
   "cell_type": "code",
   "execution_count": 59,
   "metadata": {
    "scrolled": true
   },
   "outputs": [
    {
     "data": {
      "text/plain": [
       "Text(0, 0.5, 'Gender')"
      ]
     },
     "execution_count": 59,
     "metadata": {},
     "output_type": "execute_result"
    },
    {
     "data": {
      "image/png": "[encoded data removed]",
      "text/plain": [
       "<Figure size 432x288 with 1 Axes>"
      ]
     },
     "metadata": {
      "needs_background": "light"
     },
     "output_type": "display_data"
    }
   ],
   "source": [
    "# visual based on salary and gender\n",
    "Male = hr_data[hr_data['Gender'] == 'Male']\n",
    "Female = hr_data[hr_data['Gender'] == 'Female']\n",
    "\n",
    "sns.distplot(Male['Salary'], hist = True, kde = True, label='Male')\n",
    "sns.distplot(Female['Salary'], hist = True, kde = True, label='Female')\n",
    "\n",
    "# Plot formatting\n",
    "plt.legend(prop={'size': 12})\n",
    "plt.title('Distribution of Salaries: Male & Female')\n",
    "plt.xlabel('Salary')\n",
    "plt.ylabel('Gender')"
   ]
  },
  {
   "cell_type": "code",
   "execution_count": 55,
   "metadata": {},
   "outputs": [
    {
     "data": {
      "text/plain": [
       "<matplotlib.axes._subplots.AxesSubplot at 0x252c9609780>"
      ]
     },
     "execution_count": 55,
     "metadata": {},
     "output_type": "execute_result"
    },
    {
     "data": {
      "image/png": "[encoded data removed]",
      "text/plain": [
       "<Figure size 432x288 with 1 Axes>"
      ]
     },
     "metadata": {
      "needs_background": "light"
     },
     "output_type": "display_data"
    }
   ],
   "source": [
    "#visualise the spread of the data using a boxplot\n",
    "sns.boxplot(x=hr_data['Salary'], y=hr_data['Gender'])"
   ]
  },
  {
   "cell_type": "markdown",
   "metadata": {},
   "source": [
    "## Research questions and hypotheses¶\n",
    "\n",
    "Research question: Does the gender of an employee help predict whether they will be paid a higher salary?\n",
    "\n",
    "Null hypothesis: The salaries of Males and Females are equal (e.g. there is no difference between the two). If there is a difference, then it is due to random chance)\n",
    "\n",
    "Alternative hypothesis: The salaries of Males is different that Females. The difference is so large it cannot simple be due to chance; it's statistically significant. \n",
    "\n",
    "\n",
    "Significance level: 0.05\n",
    "Confidence level: 0.95\n"
   ]
  },
  {
   "cell_type": "code",
   "execution_count": 43,
   "metadata": {},
   "outputs": [],
   "source": [
    "# Create subsets of the column 'Salary' by the different Genders so we can do a t-test. \n",
    "Male = hr_data[hr_data['Gender']== 'Male']['Salary']\n",
    "Female = hr_data[hr_data['Gender']== 'Female']['Salary']"
   ]
  },
  {
   "cell_type": "code",
   "execution_count": 44,
   "metadata": {},
   "outputs": [
    {
     "data": {
      "text/plain": [
       "Ttest_indResult(statistic=4.97688325595364, pvalue=2.7650476599728173e-06)"
      ]
     },
     "execution_count": 44,
     "metadata": {},
     "output_type": "execute_result"
    }
   ],
   "source": [
    "# Run a Student's t-test\n",
    "t_test =stats.ttest_ind(Male, Female)\n",
    "\n",
    "# Check summary results\n",
    "t_test"
   ]
  },
  {
   "cell_type": "code",
   "execution_count": 45,
   "metadata": {},
   "outputs": [
    {
     "name": "stdout",
     "output_type": "stream",
     "text": [
      "The p-value is 2.7650476599728173e-06 so the observed differences are very unlikely to be due to chance. We reject the null hypothesis.\n"
     ]
    }
   ],
   "source": [
    "# Use an if-else statement to spit out a coherent result for us\n",
    "if t_test.pvalue < 0.05:\n",
    "    print('The p-value is', t_test.pvalue,\n",
    "          'so the observed differences are very unlikely to be due to chance. We reject the null hypothesis.')\n",
    "else:\n",
    "    print('The p-value is', t_test.pvalue,\n",
    "          'so the observed differences are likely to be due to chance. We accept the null hypothesis.')"
   ]
  },
  {
   "cell_type": "markdown",
   "metadata": {},
   "source": [
    "The p-value is 2.7650476599728173e-06 so the observed differences are very unlikely to be due to chance. We reject the null hypothesis."
   ]
  },
  {
   "cell_type": "code",
   "execution_count": 46,
   "metadata": {},
   "outputs": [
    {
     "name": "stdout",
     "output_type": "stream",
     "text": [
      "The p-value is 2.9020777373581405e-06 so the observed differences are very unlikely to be due to chance. We reject the null hypothesis.\n"
     ]
    }
   ],
   "source": [
    "# Run a Welch's t-test (unequal variances)\n",
    "welch = stats.ttest_ind( Male, Female, equal_var= False)\n",
    "if welch.pvalue < 0.05:\n",
    "    print('The p-value is', welch.pvalue,\n",
    "          'so the observed differences are very unlikely to be due to chance. We reject the null hypothesis.')\n",
    "else:\n",
    "    print('The p-value is', welch.pvalue,\n",
    "          'so the observed differences are likely to be due to chance. We accept the null hypothesis.')"
   ]
  },
  {
   "cell_type": "code",
   "execution_count": 47,
   "metadata": {},
   "outputs": [
    {
     "data": {
      "text/plain": [
       "NormaltestResult(statistic=6.282480752279872, pvalue=0.043229144234422145)"
      ]
     },
     "execution_count": 47,
     "metadata": {},
     "output_type": "execute_result"
    }
   ],
   "source": [
    "# Save result in a variable called 'Male_normal'\n",
    "Male_normal = stats.normaltest(Male)\n",
    "Male_normal"
   ]
  },
  {
   "cell_type": "code",
   "execution_count": 48,
   "metadata": {},
   "outputs": [
    {
     "data": {
      "text/plain": [
       "NormaltestResult(statistic=23.505764497893452, pvalue=7.866618567292588e-06)"
      ]
     },
     "execution_count": 48,
     "metadata": {},
     "output_type": "execute_result"
    }
   ],
   "source": [
    "# Save result in a variable called 'Female_normal'\n",
    "Female_normal = stats.normaltest(Female)\n",
    "Female_normal"
   ]
  },
  {
   "cell_type": "markdown",
   "metadata": {},
   "source": [
    "The p-values from the normality tests show that while Female is greater than 0.05, Male is lower than 0.05, which means we have strong enough evidence to reject the Null and I conclude that the data is not normally distributed. \n",
    "\n",
    "\n",
    "Since the t-test assumption of normality does not stand, I reject the test(s) as valid -- and reject Welch's t-test result because it assumes the variances are equal, which they are not. "
   ]
  },
  {
   "cell_type": "markdown",
   "metadata": {},
   "source": [
    "## Conclusions\n",
    "\n",
    "I've run through a number of statistical tools to better understand the data and answer the question posed at the beginning of this workshop: If there are any employment or salary biases based on gender?\n",
    "\n",
    "The calculation indicates this is the case.\n",
    "\n",
    "My analysis of the descriptive statistics suggests that Males are, on average, paid more than Females. \n",
    "\n",
    "After running two statistical tests -- Student's t-test and Welch's t-test -- I rejected the null hypothesis, which stated that the average salaries between the two groups are different from one another.\n",
    "\n",
    "I conclude with 95% confidence that the observed difference of 0.197 stars is indeed statistically significant.\n",
    "\n"
   ]
  }
 ],
 "metadata": {
  "kernelspec": {
   "display_name": "Python 3",
   "language": "python",
   "name": "python3"
  },
  "language_info": {
   "codemirror_mode": {
    "name": "ipython",
    "version": 3
   },
   "file_extension": ".py",
   "mimetype": "text/x-python",
   "name": "python",
   "nbconvert_exporter": "python",
   "pygments_lexer": "ipython3",
   "version": "3.7.3"
  }
 },
 "nbformat": 4,
 "nbformat_minor": 2
}
